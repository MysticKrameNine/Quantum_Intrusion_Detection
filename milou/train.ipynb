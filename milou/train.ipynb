{
 "cells": [
  {
   "cell_type": "code",
   "execution_count": 2,
   "metadata": {},
   "outputs": [
    {
     "name": "stdout",
     "output_type": "stream",
     "text": [
      "class\n",
      "0.0    67343\n",
      "1.0    58630\n",
      "Name: count, dtype: int64\n",
      "class\n",
      "1.0    12833\n",
      "0.0     9711\n",
      "Name: count, dtype: int64\n"
     ]
    },
    {
     "name": "stderr",
     "output_type": "stream",
     "text": [
      "d:\\projects\\ENSIBS\\S9\\Quantum_Intrusion_Detection\\venv\\lib\\site-packages\\sklearn\\linear_model\\_logistic.py:460: ConvergenceWarning: lbfgs failed to converge (status=1):\n",
      "STOP: TOTAL NO. of ITERATIONS REACHED LIMIT.\n",
      "\n",
      "Increase the number of iterations (max_iter) or scale the data as shown in:\n",
      "    https://scikit-learn.org/stable/modules/preprocessing.html\n",
      "Please also refer to the documentation for alternative solver options:\n",
      "    https://scikit-learn.org/stable/modules/linear_model.html#logistic-regression\n",
      "  n_iter_i = _check_optimize_result(\n"
     ]
    },
    {
     "name": "stdout",
     "output_type": "stream",
     "text": [
      "0.9535376628325117\n",
      "0.7467618878637331\n",
      "[1. 1. 0. ... 0. 0. 0.]\n",
      "0.7467618878637331\n"
     ]
    },
    {
     "ename": "ModuleNotFoundError",
     "evalue": "No module named 'shap'",
     "output_type": "error",
     "traceback": [
      "\u001b[1;31m---------------------------------------------------------------------------\u001b[0m",
      "\u001b[1;31mModuleNotFoundError\u001b[0m                       Traceback (most recent call last)",
      "Cell \u001b[1;32mIn[2], line 41\u001b[0m\n\u001b[0;32m     38\u001b[0m conf_matrix \u001b[38;5;241m=\u001b[39m confusion_matrix(y_test, predictions)\n\u001b[0;32m     40\u001b[0m \u001b[38;5;66;03m# explain the model's predictions using SHAP\u001b[39;00m\n\u001b[1;32m---> 41\u001b[0m \u001b[38;5;28;01mimport\u001b[39;00m \u001b[38;5;21;01mshap\u001b[39;00m\n\u001b[0;32m     43\u001b[0m \u001b[38;5;66;03m# Initialiser l'expliqueur SHAP avec le kernel explainer (ou un autre expliqueur adapté)\u001b[39;00m\n\u001b[0;32m     44\u001b[0m explainer \u001b[38;5;241m=\u001b[39m shap\u001b[38;5;241m.\u001b[39mExplainer(model, X_train, feature_names\u001b[38;5;241m=\u001b[39mfeature_names)\n",
      "\u001b[1;31mModuleNotFoundError\u001b[0m: No module named 'shap'"
     ]
    }
   ],
   "source": [
    "from load_dataset import X_train,y_train,X_test,y_test,feature_names\n",
    "from pandas import DataFrame\n",
    "import numpy as np\n",
    "\n",
    "# dans y_train afficher la distribution des classes\n",
    "print(y_train.value_counts())\n",
    "\n",
    "# dans y_test afficher la distribution des classes\n",
    "print(y_test.value_counts())\n",
    "\n",
    "# Scale the data\n",
    "from sklearn.preprocessing import StandardScaler\n",
    "scaler = StandardScaler()\n",
    "X_train = scaler.fit_transform(X_train)\n",
    "X_test = scaler.transform(X_test)\n",
    "\n",
    "# Train the model\n",
    "from sklearn.linear_model import LogisticRegression\n",
    "model = LogisticRegression()\n",
    "model.fit(X_train, y_train)\n",
    "\n",
    "# Evaluate the model\n",
    "print(model.score(X_train, y_train))\n",
    "print(model.score(X_test, y_test))\n",
    "\n",
    "# Make predictions\n",
    "predictions = model.predict(X_test)\n",
    "print(predictions)\n",
    "\n",
    "# Evaluate the model\n",
    "from sklearn.metrics import accuracy_score\n",
    "print(accuracy_score(y_test, predictions))\n",
    "\n",
    "# Evaluate the model\n",
    "from sklearn.metrics import confusion_matrix\n",
    "\n",
    "# Confusion matrix\n",
    "conf_matrix = confusion_matrix(y_test, predictions)\n",
    "\n",
    "# explain the model's predictions using SHAP\n",
    "import shap\n",
    "\n",
    "# Initialiser l'expliqueur SHAP avec le kernel explainer (ou un autre expliqueur adapté)\n",
    "explainer = shap.Explainer(model, X_train, feature_names=feature_names)\n",
    "\n",
    "# Calculer les valeurs SHAP pour les échantillons de test\n",
    "shap_values = explainer(X_test)\n",
    "\n",
    "# Pour évaluer l'importance des caractéristiques sur des données nouvelles\n",
    "shap.summary_plot(shap_values, X_test)"
   ]
  }
 ],
 "metadata": {
  "kernelspec": {
   "display_name": "venv",
   "language": "python",
   "name": "python3"
  },
  "language_info": {
   "codemirror_mode": {
    "name": "ipython",
    "version": 3
   },
   "file_extension": ".py",
   "mimetype": "text/x-python",
   "name": "python",
   "nbconvert_exporter": "python",
   "pygments_lexer": "ipython3",
   "version": "3.10.7"
  }
 },
 "nbformat": 4,
 "nbformat_minor": 2
}
