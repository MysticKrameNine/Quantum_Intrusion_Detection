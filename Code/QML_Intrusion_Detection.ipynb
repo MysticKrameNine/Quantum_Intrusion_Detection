{
 "cells": [
  {
   "cell_type": "code",
   "execution_count": 3,
   "metadata": {},
   "outputs": [
    {
     "ename": "ModuleNotFoundError",
     "evalue": "No module named 'qiskit.aqua'",
     "output_type": "error",
     "traceback": [
      "\u001b[1;31m---------------------------------------------------------------------------\u001b[0m",
      "\u001b[1;31mModuleNotFoundError\u001b[0m                       Traceback (most recent call last)",
      "\u001b[1;32mc:\\Users\\ikram\\OneDrive\\Bureau\\S9\\Projet\\Quantum_Intrusion_Detection\\Code\\QML_Intrusion_Detection.ipynb Cell 1\u001b[0m line \u001b[0;36m7\n\u001b[0;32m      <a href='vscode-notebook-cell:/c%3A/Users/ikram/OneDrive/Bureau/S9/Projet/Quantum_Intrusion_Detection/Code/QML_Intrusion_Detection.ipynb#W0sZmlsZQ%3D%3D?line=4'>5</a>\u001b[0m \u001b[39mfrom\u001b[39;00m \u001b[39msklearn\u001b[39;00m\u001b[39m.\u001b[39;00m\u001b[39mmodel_selection\u001b[39;00m \u001b[39mimport\u001b[39;00m train_test_split\n\u001b[0;32m      <a href='vscode-notebook-cell:/c%3A/Users/ikram/OneDrive/Bureau/S9/Projet/Quantum_Intrusion_Detection/Code/QML_Intrusion_Detection.ipynb#W0sZmlsZQ%3D%3D?line=5'>6</a>\u001b[0m \u001b[39mfrom\u001b[39;00m \u001b[39msklearn\u001b[39;00m\u001b[39m.\u001b[39;00m\u001b[39mdatasets\u001b[39;00m \u001b[39mimport\u001b[39;00m load_breast_cancer\n\u001b[1;32m----> <a href='vscode-notebook-cell:/c%3A/Users/ikram/OneDrive/Bureau/S9/Projet/Quantum_Intrusion_Detection/Code/QML_Intrusion_Detection.ipynb#W0sZmlsZQ%3D%3D?line=6'>7</a>\u001b[0m \u001b[39mfrom\u001b[39;00m \u001b[39mqiskit\u001b[39;00m\u001b[39m.\u001b[39;00m\u001b[39maqua\u001b[39;00m \u001b[39mimport\u001b[39;00m QuantumInstance\n\u001b[0;32m      <a href='vscode-notebook-cell:/c%3A/Users/ikram/OneDrive/Bureau/S9/Projet/Quantum_Intrusion_Detection/Code/QML_Intrusion_Detection.ipynb#W0sZmlsZQ%3D%3D?line=7'>8</a>\u001b[0m \u001b[39mfrom\u001b[39;00m \u001b[39mqiskit\u001b[39;00m\u001b[39m.\u001b[39;00m\u001b[39mproviders\u001b[39;00m\u001b[39m.\u001b[39;00m\u001b[39maer\u001b[39;00m \u001b[39mimport\u001b[39;00m AerSimulator\n",
      "\u001b[1;31mModuleNotFoundError\u001b[0m: No module named 'qiskit.aqua'"
     ]
    }
   ],
   "source": [
    "# Import necessary libraries\n",
    "from qiskit import QuantumCircuit, Aer, transpile\n",
    "from qiskit.circuit.library import ZZFeatureMap\n",
    "from qiskit_machine_learning.algorithms import VQC\n",
    "from sklearn.model_selection import train_test_split\n",
    "from sklearn.datasets import load_breast_cancer\n",
    "from qiskit.aqua import QuantumInstance\n",
    "from qiskit.providers.aer import AerSimulator\n",
    "\n"
   ]
  },
  {
   "cell_type": "code",
   "execution_count": 11,
   "metadata": {},
   "outputs": [],
   "source": [
    "from qiskit_machine_learning.algorithms import VQC\n",
    "from sklearn.model_selection import train_test_split\n",
    "from sklearn.datasets import load_breast_cancer\n"
   ]
  },
  {
   "cell_type": "code",
   "execution_count": 2,
   "metadata": {},
   "outputs": [],
   "source": []
  }
 ],
 "metadata": {
  "kernelspec": {
   "display_name": "Python 3",
   "language": "python",
   "name": "python3"
  },
  "language_info": {
   "codemirror_mode": {
    "name": "ipython",
    "version": 3
   },
   "file_extension": ".py",
   "mimetype": "text/x-python",
   "name": "python",
   "nbconvert_exporter": "python",
   "pygments_lexer": "ipython3",
   "version": "3.10.11"
  }
 },
 "nbformat": 4,
 "nbformat_minor": 2
}
